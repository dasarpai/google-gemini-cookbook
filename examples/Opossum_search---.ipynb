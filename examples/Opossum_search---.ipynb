{
  "cells": [
    {
      "cell_type": "markdown",
      "metadata": {
        "id": "Tce3stUlHN0L"
      },
      "source": [
        "##### Copyright 2024 Google LLC."
      ]
    },
    {
      "cell_type": "code",
      "execution_count": null,
      "metadata": {
        "cellView": "form",
        "id": "tuOe1ymfHZPu"
      },
      "outputs": [],
      "source": [
        "# @title Licensed under the Apache License, Version 2.0 (the \"License\");\n",
        "# you may not use this file except in compliance with the License.\n",
        "# You may obtain a copy of the License at\n",
        "#\n",
        "# https://www.apache.org/licenses/LICENSE-2.0\n",
        "#\n",
        "# Unless required by applicable law or agreed to in writing, software\n",
        "# distributed under the License is distributed on an \"AS IS\" BASIS,\n",
        "# WITHOUT WARRANTIES OR CONDITIONS OF ANY KIND, either express or implied.\n",
        "# See the License for the specific language governing permissions and\n",
        "# limitations under the License."
      ]
    },
    {
      "cell_type": "markdown",
      "metadata": {
        "id": "7EtZRebrTCzD"
      },
      "source": [
        "# Opossum search\n",
        "\n",
        "<table align=\"left\">\n",
        "  <td>\n",
        "    <a target=\"_blank\" href=\"https://colab.research.google.com/github/google-gemini/cookbook/blob/main/examples/Opossum_search.ipynb\"><img src=\"https://www.tensorflow.org/images/colab_logo_32px.png\" />Run in Google Colab</a>\n",
        "  </td>\n",
        "</table>"
      ]
    },
    {
      "cell_type": "markdown",
      "metadata": {
        "id": "mZsD3pqETKMV"
      },
      "source": [
        "This notebook contains a simple example of generating code with the Gemini API and Gemini 1.5 Pro. Just for fun, you'll prompt the model to create a web app called \"Opossum Search\" that searches Google with \"opossum\" appended to the query."
      ]
    },
    {
      "cell_type": "markdown",
      "metadata": {
        "id": "5kHESAVZcZQD"
      },
      "source": [
        "<img src=\"https://storage.googleapis.com/generativeai-downloads/images/opossum_search.jpg\" alt=\"An image of the opossum search web app running in a browser\" width=\"500\"/>\n",
        "\n",
        "> The opossum image above is from [Wikimedia Commons](https://commons.wikimedia.org/wiki/File:Opossum_2.jpg), and shared under a CC BY-SA 2.5 license."
      ]
    },
    {
      "cell_type": "code",
      "execution_count": null,
      "metadata": {
        "id": "UyZKDjRs-FN5"
      },
      "outputs": [],
      "source": [
        "!pip install -q -U google-generativeai"
      ]
    },
    {
      "cell_type": "code",
      "execution_count": 1,
      "metadata": {
        "id": "F0DZNupF-Lfj"
      },
      "outputs": [],
      "source": [
        "import google.generativeai as genai"
      ]
    },
    {
      "cell_type": "markdown",
      "metadata": {
        "id": "Dm7FFjBscek6"
      },
      "source": [
        "## Set up your API key\n",
        "\n",
        "To run the following cell, your API key must be stored it in a Colab Secret named `GOOGLE_API_KEY`. If you don't already have an API key, or you're not sure how to create a Colab Secret, see the [Authentication](https://github.com/google-gemini/gemini-api-cookbook/blob/main/quickstarts/Authentication.ipynb) quickstart for an example."
      ]
    },
    {
      "cell_type": "code",
      "execution_count": 2,
      "metadata": {
        "id": "IciW45ex-Lo9"
      },
      "outputs": [],
      "source": [
        "from google.colab import userdata\n",
        "GOOGLE_API_KEY=userdata.get('GOOGLE_API_KEY')\n",
        "genai.configure(api_key=GOOGLE_API_KEY)"
      ]
    },
    {
      "cell_type": "markdown",
      "metadata": {
        "id": "4V68II0ZeCjz"
      },
      "source": [
        "Prompt the model to generate the web app."
      ]
    },
    {
      "cell_type": "code",
      "execution_count": 5,
      "metadata": {
        "id": "mxYn5lUAfsUC"
      },
      "outputs": [],
      "source": [
        "instruction = \"\"\"You are a coding expert that specializes in creating web pages based on a user request.\n",
        "You create correct and simple code that is easy to understand.\n",
        "You implement all the functionality requested by the user.\n",
        "You ensure your code works properly, and you follow best practices for HTML programming.\"\"\""
      ]
    },
    {
      "cell_type": "code",
      "execution_count": 6,
      "metadata": {
        "id": "igrg_SxPfwQ6"
      },
      "outputs": [],
      "source": [
        "prompt = \"\"\"Create a web app called Opossum Search:\n",
        "1. Every time you make a search query, it should redirect you to a Google search\n",
        "with the same query, but with the word opossum before it.\n",
        "2. It should be visually similar to Google search.\n",
        "3. Instead of the google logo, it should have a picture of this opossum: https://upload.wikimedia.org/wikipedia/commons/thumb/2/27/Opossum_2.jpg/292px-Opossum_2.jpg.\n",
        "4. It should be a single HTML file, with no separate JS or CSS files.\n",
        "5. It should say Powered by opossum search in the footer.\n",
        "6. Do not use any unicode characters.\n",
        "Thank you!\"\"\""
      ]
    },
    {
      "cell_type": "code",
      "execution_count": 7,
      "metadata": {
        "id": "-qpqkgTurqYI",
        "colab": {
          "base_uri": "https://localhost:8080/",
          "height": 1000
        },
        "outputId": "2cdd5b55-347e-4d84-934e-92ca7fd52908"
      },
      "outputs": [
        {
          "output_type": "stream",
          "name": "stdout",
          "text": [
            "```html\n",
            "<!DOCTYPE html>\n",
            "<html>\n",
            "<head>\n",
            "  <title>Opossum Search</title>\n",
            "  <style>\n",
            "    body {\n",
            "      font-family: Arial, sans-serif;\n",
            "      background-color: #f0f0f0;\n",
            "      margin: 0;\n",
            "      padding: 0;\n",
            "    }\n",
            "\n",
            "    .container {\n",
            "      width: 960px;\n",
            "      margin: 0 auto;\n",
            "      padding: 20px;\n",
            "      background-color: #fff;\n",
            "      border-radius: 5px;\n",
            "      box-shadow: 0 2px 5px rgba(0, 0, 0, 0.1);\n",
            "    }\n",
            "\n",
            "    header {\n",
            "      text-align: center;\n",
            "      margin-bottom: 20px;\n",
            "    }\n",
            "\n",
            "    img {\n",
            "      width: 292px;\n",
            "      height: auto;\n",
            "    }\n",
            "\n",
            "    form {\n",
            "      display: flex;\n",
            "      align-items: center;\n",
            "    }\n",
            "\n",
            "    input[type=\"text\"] {\n",
            "      padding: 10px;\n",
            "      border: 1px solid #ccc;\n",
            "      border-radius: 5px 0 0 5px;\n",
            "      width: 100%;\n",
            "      font-size: 16px;\n",
            "    }\n",
            "\n",
            "    input[type=\"submit\"] {\n",
            "      background-color: #4285f4;\n",
            "      color: white;\n",
            "      padding: 10px 20px;\n",
            "      border: none;\n",
            "      border-radius: 0 5px 5px 0;\n",
            "      cursor: pointer;\n",
            "      font-size: 16px;\n",
            "    }\n",
            "\n",
            "    footer {\n",
            "      text-align: center;\n",
            "      padding: 10px 0;\n",
            "      font-size: 14px;\n",
            "      color: #666;\n",
            "    }\n",
            "  </style>\n",
            "</head>\n",
            "<body>\n",
            "  <div class=\"container\">\n",
            "    <header>\n",
            "      <img src=\"https://upload.wikimedia.org/wikipedia/commons/thumb/2/27/Opossum_2.jpg/292px-Opossum_2.jpg\" alt=\"Opossum\">\n",
            "    </header>\n",
            "\n",
            "    <form action=\"https://www.google.com/search\" method=\"get\">\n",
            "      <input type=\"text\" name=\"q\" placeholder=\"Search the web\" required>\n",
            "      <input type=\"hidden\" name=\"q\" value=\"opossum \">\n",
            "      <input type=\"submit\" value=\"Search\">\n",
            "    </form>\n",
            "\n",
            "    <footer>\n",
            "      Powered by opossum search\n",
            "    </footer>\n",
            "  </div>\n",
            "</body>\n",
            "</html>\n",
            "```\n",
            "\n",
            "This code creates a basic web page with the following features:\n",
            "\n",
            "* **Visual similarity to Google search:** Uses similar styling for the search bar, form, and overall layout.\n",
            "* **Opossum logo:** Replaces the Google logo with the provided opossum image.\n",
            "* **Search functionality:** When you enter a query and click \"Search\", it redirects to Google search with \"opossum\" prepended to your query.\n",
            "* **Powered by opossum search footer:** Includes a footer with the text \"Powered by opossum search\".\n",
            "* **Single HTML file:** All code is contained within the HTML file.\n",
            "\n",
            "This is a simple implementation, but you can enhance it further by adding features like:\n",
            "\n",
            "* **Custom search suggestions:** Display suggestions as the user types.\n",
            "* **Advanced search options:** Include options for image search, video search, etc.\n",
            "* **More styling:** Use CSS for a more detailed and visually appealing design.\n",
            "\n",
            "Remember to save the HTML file and open it in a web browser to see the result.\n",
            "\n"
          ]
        }
      ],
      "source": [
        "model = genai.GenerativeModel(\"gemini-1.5-flash\", system_instruction=instruction)\n",
        "response = model.generate_content(prompt)\n",
        "print(response.text)"
      ]
    },
    {
      "cell_type": "markdown",
      "metadata": {
        "id": "Im4fvOK5S3-A"
      },
      "source": [
        "## Run the output locally\n",
        "\n",
        "You can start a web server as follows.\n",
        "\n",
        "* Save the HTML output to a file called `search.html`\n",
        "* In your terminal run `python3 -m http.server 8000`\n",
        "* Open your web browser, and point it to `http://localhost:8000/search.html`"
      ]
    },
    {
      "cell_type": "markdown",
      "metadata": {
        "id": "_wcKnJKIuBQg"
      },
      "source": [
        "## Display the output in IPython\n",
        "\n",
        "Like all LLMs, the output may not always be correct. You can experiment by rerunning the prompt, or by writing an improved one (and/or better system instructions). Have fun!"
      ]
    },
    {
      "cell_type": "code",
      "execution_count": 8,
      "metadata": {
        "id": "M6FS75_bi5kP",
        "colab": {
          "base_uri": "https://localhost:8080/",
          "height": 382
        },
        "outputId": "11333f25-6d69-453f-d137-c3f6c9dcbfec"
      },
      "outputs": [
        {
          "output_type": "execute_result",
          "data": {
            "text/plain": [
              "<IPython.core.display.HTML object>"
            ],
            "text/html": [
              "\n",
              "<!DOCTYPE html>\n",
              "<html>\n",
              "<head>\n",
              "  <title>Opossum Search</title>\n",
              "  <style>\n",
              "    body {\n",
              "      font-family: Arial, sans-serif;\n",
              "      background-color: #f0f0f0;\n",
              "      margin: 0;\n",
              "      padding: 0;\n",
              "    }\n",
              "\n",
              "    .container {\n",
              "      width: 960px;\n",
              "      margin: 0 auto;\n",
              "      padding: 20px;\n",
              "      background-color: #fff;\n",
              "      border-radius: 5px;\n",
              "      box-shadow: 0 2px 5px rgba(0, 0, 0, 0.1);\n",
              "    }\n",
              "\n",
              "    header {\n",
              "      text-align: center;\n",
              "      margin-bottom: 20px;\n",
              "    }\n",
              "\n",
              "    img {\n",
              "      width: 292px;\n",
              "      height: auto;\n",
              "    }\n",
              "\n",
              "    form {\n",
              "      display: flex;\n",
              "      align-items: center;\n",
              "    }\n",
              "\n",
              "    input[type=\"text\"] {\n",
              "      padding: 10px;\n",
              "      border: 1px solid #ccc;\n",
              "      border-radius: 5px 0 0 5px;\n",
              "      width: 100%;\n",
              "      font-size: 16px;\n",
              "    }\n",
              "\n",
              "    input[type=\"submit\"] {\n",
              "      background-color: #4285f4;\n",
              "      color: white;\n",
              "      padding: 10px 20px;\n",
              "      border: none;\n",
              "      border-radius: 0 5px 5px 0;\n",
              "      cursor: pointer;\n",
              "      font-size: 16px;\n",
              "    }\n",
              "\n",
              "    footer {\n",
              "      text-align: center;\n",
              "      padding: 10px 0;\n",
              "      font-size: 14px;\n",
              "      color: #666;\n",
              "    }\n",
              "  </style>\n",
              "</head>\n",
              "<body>\n",
              "  <div class=\"container\">\n",
              "    <header>\n",
              "      <img src=\"https://upload.wikimedia.org/wikipedia/commons/thumb/2/27/Opossum_2.jpg/292px-Opossum_2.jpg\" alt=\"Opossum\">\n",
              "    </header>\n",
              "\n",
              "    <form action=\"https://www.google.com/search\" method=\"get\">\n",
              "      <input type=\"text\" name=\"q\" placeholder=\"Search the web\" required>\n",
              "      <input type=\"hidden\" name=\"q\" value=\"opossum \">\n",
              "      <input type=\"submit\" value=\"Search\">\n",
              "    </form>\n",
              "\n",
              "    <footer>\n",
              "      Powered by opossum search\n",
              "    </footer>\n",
              "  </div>\n",
              "</body>\n",
              "</html>\n"
            ]
          },
          "metadata": {},
          "execution_count": 8
        }
      ],
      "source": [
        "import IPython\n",
        "code = response.text.split('```')[1][len('html'):]\n",
        "IPython.display.HTML(code)"
      ]
    }
  ],
  "metadata": {
    "colab": {
      "name": "Opossum_search.ipynb",
      "provenance": []
    },
    "kernelspec": {
      "display_name": "Python 3",
      "name": "python3"
    }
  },
  "nbformat": 4,
  "nbformat_minor": 0
}
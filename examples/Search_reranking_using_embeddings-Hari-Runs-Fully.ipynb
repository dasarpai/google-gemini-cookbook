{
  "cells": [
    {
      "cell_type": "markdown",
      "metadata": {
        "id": "Tce3stUlHN0L"
      },
      "source": [
        "##### Copyright 2024 Google LLC."
      ]
    },
    {
      "cell_type": "code",
      "execution_count": null,
      "metadata": {
        "cellView": "form",
        "id": "tuOe1ymfHZPu"
      },
      "outputs": [],
      "source": [
        "# @title Licensed under the Apache License, Version 2.0 (the \"License\");\n",
        "# you may not use this file except in compliance with the License.\n",
        "# You may obtain a copy of the License at\n",
        "#\n",
        "# https://www.apache.org/licenses/LICENSE-2.0\n",
        "#\n",
        "# Unless required by applicable law or agreed to in writing, software\n",
        "# distributed under the License is distributed on an \"AS IS\" BASIS,\n",
        "# WITHOUT WARRANTIES OR CONDITIONS OF ANY KIND, either express or implied.\n",
        "# See the License for the specific language governing permissions and\n",
        "# limitations under the License."
      ]
    },
    {
      "cell_type": "markdown",
      "metadata": {
        "id": "oJt4OFKPgO8C"
      },
      "source": [
        "# Search re-ranking using Gemini embeddings"
      ]
    },
    {
      "cell_type": "markdown",
      "metadata": {
        "id": "k5n0sCc_fKcB"
      },
      "source": [
        "<table align=\"left\">\n",
        "  <td>\n",
        "    <a target=\"_blank\" href=\"https://colab.research.google.com/github/google-gemini/cookbook/blob/main/examples/Search_reranking_using_embeddings.ipynb\"><img src=\"https://www.tensorflow.org/images/colab_logo_32px.png\" />Run in Google Colab</a>\n",
        "  </td>\n",
        "</table>"
      ]
    },
    {
      "cell_type": "markdown",
      "metadata": {
        "id": "0UO0Cgq0mRlG"
      },
      "source": [
        "This notebook demonstrates the use of embeddings to re-rank search results. This walkthrough will focus on the following objectives:\n",
        "\n",
        "\n",
        "\n",
        "1.   Setting up your development environment and API access to use Gemini.\n",
        "2.   Using Gemini's function calling support to access the Wikipedia API.\n",
        "3.   Embedding content via Gemini API.\n",
        "4.   Re-ranking the search results.\n"
      ]
    },
    {
      "cell_type": "markdown",
      "metadata": {
        "id": "-e5Aje-DTQOq"
      },
      "source": [
        "This is how you will implement search re-ranking:\n",
        "\n",
        "\n",
        "1.   The user will make a search query.\n",
        "2.   You will use Wikipedia API to return the relevant search results.\n",
        "3.   The search results will be embedded and their relevance will be evaluated by calculating distance metrics like cosine similarity.\n",
        "4.   The most relevant search result will be returned as the final answer."
      ]
    },
    {
      "cell_type": "markdown",
      "metadata": {
        "id": "rpVL_QrF5-oF"
      },
      "source": [
        "> The non-source code materials in this notebook are licensed under Creative Commons - Attribution-ShareAlike CC-BY-SA 4.0, https://creativecommons.org/licenses/by-sa/4.0/legalcode."
      ]
    },
    {
      "cell_type": "markdown",
      "metadata": {
        "id": "pwImlRg9DUp7"
      },
      "source": [
        "## Setup\n"
      ]
    },
    {
      "cell_type": "code",
      "execution_count": null,
      "metadata": {
        "id": "Nv_6f_qNHe_2"
      },
      "outputs": [],
      "source": [
        "!pip install -q -U google-generativeai"
      ]
    },
    {
      "cell_type": "code",
      "execution_count": 1,
      "metadata": {
        "id": "5999faf240a4",
        "outputId": "23138ef4-2aa1-474b-ae25-c38e1ee17558",
        "colab": {
          "base_uri": "https://localhost:8080/"
        }
      },
      "outputs": [
        {
          "output_type": "stream",
          "name": "stdout",
          "text": [
            "  Preparing metadata (setup.py) ... \u001b[?25l\u001b[?25hdone\n",
            "  Building wheel for wikipedia (setup.py) ... \u001b[?25l\u001b[?25hdone\n"
          ]
        }
      ],
      "source": [
        "!pip install -q wikipedia"
      ]
    },
    {
      "cell_type": "markdown",
      "metadata": {
        "id": "739f0bb73f05"
      },
      "source": [
        "Note: The [`wikipedia` package](https://pypi.org/project/wikipedia/) notes that it was \"designed for ease of use and simplicity, not for advanced use\", and that production or heavy use should instead \"use [Pywikipediabot](http://www.mediawiki.org/wiki/Manual:Pywikipediabot) or one of the other more advanced [Python MediaWiki API wrappers](http://en.wikipedia.org/wiki/Wikipedia:Creating_a_bot#Python)\"."
      ]
    },
    {
      "cell_type": "code",
      "execution_count": 2,
      "metadata": {
        "id": "D0qOtLI3FVid"
      },
      "outputs": [],
      "source": [
        "import json\n",
        "import textwrap\n",
        "\n",
        "import google.generativeai as genai\n",
        "\n",
        "import wikipedia\n",
        "from wikipedia.exceptions import DisambiguationError, PageError\n",
        "\n",
        "import numpy as np\n",
        "\n",
        "from IPython.display import Markdown\n",
        "\n",
        "def to_markdown(text):\n",
        "  text = text.replace('•', '  *')\n",
        "  return Markdown(textwrap.indent(text, '> ', predicate=lambda _: True))"
      ]
    },
    {
      "cell_type": "markdown",
      "metadata": {
        "id": "aeo_9J9iDtCx"
      },
      "source": [
        "To run the following cell, your API key must be stored it in a Colab Secret named `GOOGLE_API_KEY`. If you don't already have an API key, or you're not sure how to create a Colab Secret, see the [Authentication](https://github.com/google-gemini/cookbook/blob/main/quickstarts/Authentication.ipynb) quickstart for an example."
      ]
    },
    {
      "cell_type": "code",
      "execution_count": 3,
      "metadata": {
        "id": "yxzEH0GqLshI"
      },
      "outputs": [],
      "source": [
        "from google.colab import userdata\n",
        "GOOGLE_API_KEY=userdata.get('GOOGLE_API_KEY')\n",
        "genai.configure(api_key=GOOGLE_API_KEY)"
      ]
    },
    {
      "cell_type": "markdown",
      "metadata": {
        "id": "0hkJSFIWI7G1"
      },
      "source": [
        "## Define tools"
      ]
    },
    {
      "cell_type": "markdown",
      "metadata": {
        "id": "7HjN6hsAJkOq"
      },
      "source": [
        "As stated earlier, this tutorial uses Gemini's function calling support to access the Wikipedia API. Please refer to the [docs](https://ai.google.dev/docs/function_calling) to learn more about function calling."
      ]
    },
    {
      "cell_type": "markdown",
      "metadata": {
        "id": "fpFkazXUenkK"
      },
      "source": [
        "### Define the search function"
      ]
    },
    {
      "cell_type": "markdown",
      "metadata": {
        "id": "2fp-m-5Ke0XY"
      },
      "source": [
        "To cater to the search engine needs, you will design this function in the following way:\n",
        "\n",
        "\n",
        "*   For each search query, the search engine will use the `wikipedia.search` method to get relevant topics.\n",
        "*   From the relevant topics, the engine will choose `n_topics(int)` top candidates and will use `gemini-1.5-flash` to extract relevant information from the page.\n",
        "*   The engine will avoid duplicate entries by maintaining a search history.\n"
      ]
    },
    {
      "cell_type": "code",
      "execution_count": 4,
      "metadata": {
        "id": "2U27tdP8OBys"
      },
      "outputs": [],
      "source": [
        "def wikipedia_search(search_queries: list[str]) -> list[str]:\n",
        "  \"\"\"Search wikipedia for each query and summarize relevant docs.\"\"\"\n",
        "  n_topics=3\n",
        "  search_history = set() # tracking search history\n",
        "  search_urls = []\n",
        "  mining_model = genai.GenerativeModel('gemini-1.5-flash')\n",
        "  summary_results = []\n",
        "\n",
        "  for query in search_queries:\n",
        "    print(f'Searching for \"{query}\"')\n",
        "    search_terms = wikipedia.search(query)\n",
        "\n",
        "    print(f\"Related search terms: {search_terms[:n_topics]}\")\n",
        "    for search_term in search_terms[:n_topics]: # select first `n_topics` candidates\n",
        "      if search_term in search_history: # check if the topic is already covered\n",
        "        continue\n",
        "\n",
        "      print(f'Fetching page: \"{search_term}\"')\n",
        "      search_history.add(search_term) # add to search history\n",
        "\n",
        "      try:\n",
        "        # extract the relevant data by using `gemini-1.5-flash` model\n",
        "        page = wikipedia.page(search_term, auto_suggest=False)\n",
        "        url = page.url\n",
        "        print(f\"Information Source: {url}\")\n",
        "        search_urls.append(url)\n",
        "        page = page.content\n",
        "        response = mining_model.generate_content(textwrap.dedent(f\"\"\"\\\n",
        "            Extract relevant information\n",
        "            about user's query: {query}\n",
        "            From this source:\n",
        "\n",
        "            {page}\n",
        "\n",
        "            Note: Do not summarize. Only Extract and return the relevant information\n",
        "        \"\"\"))\n",
        "\n",
        "        urls = [url]\n",
        "        if response.candidates[0].citation_metadata:\n",
        "          extra_citations = response.candidates[0].citation_metadata.citation_sources\n",
        "          extra_urls = [source.url for source in extra_citations]\n",
        "          urls.extend(extra_urls)\n",
        "          search_urls.extend(extra_urls)\n",
        "          print(\"Additional citations:\", response.candidates[0].citation_metadata.citation_sources)\n",
        "        try:\n",
        "          text = response.text\n",
        "        except ValueError:\n",
        "          pass\n",
        "        else:\n",
        "          summary_results.append(text + \"\\n\\nBased on:\\n  \" + ',\\n  '.join(urls))\n",
        "\n",
        "      except DisambiguationError:\n",
        "        print(f\"\"\"Results when searching for \"{search_term}\" (originally for \"{query}\")\n",
        "        were ambiguous, hence skipping\"\"\")\n",
        "        continue\n",
        "\n",
        "      except PageError:\n",
        "        print(f'{search_term} did not match with any page id, hence skipping.')\n",
        "        continue\n",
        "\n",
        "      except:\n",
        "        print(f'{search_term} did not match with any page id, hence skipping.')\n",
        "        continue\n",
        "\n",
        "  print(f\"Information Sources:\")\n",
        "  for url in search_urls:\n",
        "    print('    ', url)\n",
        "\n",
        "  return summary_results\n"
      ]
    },
    {
      "cell_type": "code",
      "execution_count": 5,
      "metadata": {
        "id": "EWKkkKDXmzOX",
        "outputId": "fa3be832-33f3-4d7a-a6aa-18d184fadbc5",
        "colab": {
          "base_uri": "https://localhost:8080/",
          "height": 243
        }
      },
      "outputs": [
        {
          "output_type": "stream",
          "name": "stdout",
          "text": [
            "Searching for \"What are LLMs?\"\n",
            "Related search terms: ['Large language model', 'Llama (language model)', 'Stochastic parrot']\n",
            "Fetching page: \"Large language model\"\n",
            "Information Source: https://en.wikipedia.org/wiki/Large_language_model\n",
            "Fetching page: \"Llama (language model)\"\n",
            "Information Source: https://en.wikipedia.org/wiki/Llama_(language_model)\n",
            "Llama (language model) did not match with any page id, hence skipping.\n",
            "Fetching page: \"Stochastic parrot\"\n",
            "Information Source: https://en.wikipedia.org/wiki/Stochastic_parrot\n",
            "Information Sources:\n",
            "     https://en.wikipedia.org/wiki/Large_language_model\n",
            "     https://en.wikipedia.org/wiki/Llama_(language_model)\n",
            "     https://en.wikipedia.org/wiki/Stochastic_parrot\n"
          ]
        }
      ],
      "source": [
        "example = wikipedia_search([\"What are LLMs?\"])"
      ]
    },
    {
      "cell_type": "markdown",
      "metadata": {
        "id": "8bPT114QEPgW"
      },
      "source": [
        "Here is what the search results look like:"
      ]
    },
    {
      "cell_type": "code",
      "execution_count": 6,
      "metadata": {
        "id": "8wy7YUFqEYTv",
        "outputId": "e1b70102-1772-4c10-8b85-faa6cce62b35",
        "colab": {
          "base_uri": "https://localhost:8080/",
          "height": 1000
        }
      },
      "outputs": [
        {
          "output_type": "display_data",
          "data": {
            "text/plain": [
              "<IPython.core.display.Markdown object>"
            ],
            "text/markdown": "> ## Relevant information about LLMs:\n> \n> **Definition:**\n> \n> * A large language model (LLM) is a computational model capable of general-purpose language generation and other natural language processing tasks like classification.\n> * LLMs learn statistical relationships from vast amounts of text data through a self-supervised and semi-supervised training process.\n> * LLMs are artificial neural networks built on the transformer architecture.\n> \n> **Key Abilities:**\n> \n> * **Text generation:** LLMs can generate text by predicting the next token or word in a sequence.\n> * **Natural Language Processing (NLP):** LLMs can be used for tasks like classification, translation, and summarization.\n> \n> **Training and Architecture:**\n> \n> * **Transformer architecture:** LLMs are based on the transformer architecture, which enables efficient processing and generation of large-scale text data.\n> * **Decoder-only architecture:** Most capable LLMs use a decoder-only transformer architecture.\n> * **Prompt engineering:** LLMs can be guided to perform specific tasks by crafting specific input prompts.\n> * **Reinforcement Learning from Human Feedback (RLHF):** LLMs can be fine-tuned using RLHF algorithms based on human preferences.\n> * **Instruction tuning:** LLMs can learn to perform tasks based on human-generated corrections.\n> * **Mixture of Experts (MoE):** MoE allows for training larger and more complex models.\n> * **Context Window:** LLMs have a limited context window, which affects the amount of information they can consider when generating responses.\n> * **Attention Mechanism:** LLMs use an attention mechanism to determine the relevance of different tokens within a context.\n> \n> **Notable LLMs:**\n> \n> * **OpenAI:** GPT series (GPT-3.5, GPT-4), used in ChatGPT and Microsoft Copilot.\n> * **Google:** Gemini, used in the Gemini chatbot.\n> * **Meta:** LLaMA family of models.\n> * **Anthropic:** Claude models.\n> * **Mistral AI:** Mistral models.\n> \n> **History:**\n> \n> * Early language models were based on statistical methods and n-gram models.\n> * Neural networks became dominant in language modeling after 2012.\n> * The transformer architecture was introduced in 2017, revolutionizing language modeling.\n> * GPT-2 (2019) and GPT-3 (2020) gained widespread attention.\n> * ChatGPT (2022) brought LLMs to the general public.\n> * GPT-4 (2023) showcased increased accuracy and multimodal capabilities.\n> \n> **Other Important Aspects:**\n> \n> * **Dataset preprocessing:** LLMs require text data to be converted into numbers through tokenization.\n> * **Training cost:** Training LLMs is computationally expensive, requiring substantial resources.\n> * **Tool use:** LLMs can be integrated with external tools and APIs to perform more complex tasks.\n> * **Agency:** LLMs can be used as components of intelligent agents.\n> * **Compression:** Techniques like quantization are used to reduce the size of LLMs.\n> * **Multimodality:** LLMs are being developed to process multiple input modalities, such as text, images, and video.\n> * **Scaling laws:** Performance of LLMs is related to their size, training data size, and computational cost.\n> * **Emergent abilities:** LLMs exhibit emergent abilities that arise from the complex interactions of their components.\n> * **Interpretation:** Understanding how LLMs work is an active area of research.\n> * **Evaluation:** LLMs are evaluated using various metrics, including perplexity, task-specific datasets, and adversarial evaluations.\n> * **Wider impact:** LLMs have the potential to significantly impact various industries and aspects of society.\n> \n> This information provides a comprehensive overview of LLMs, highlighting their capabilities, training process, history, and potential impact. \n> \n> \n> Based on:\n>   https://en.wikipedia.org/wiki/Large_language_model"
          },
          "metadata": {}
        },
        {
          "output_type": "display_data",
          "data": {
            "text/plain": [
              "<IPython.core.display.Markdown object>"
            ],
            "text/markdown": "> ## Relevant Information about LLMs:\n> \n> **Definition:**\n> \n> * **LLMs (Large Language Models)** are machine learning models that can generate human-like text.\n> * The term \"stochastic parrot\" describes the theory that LLMs lack understanding of the meaning of the language they process. \n> * LLMs are essentially probabilistic word and sentence linkers, trained on large datasets. \n> \n> **Concerns and Criticisms:**\n> \n> * LLMs are limited by the data they are trained on and can only repeat what they have learned. \n> * They are unable to discern correct or appropriate information, leading to the possibility of generating \"dangerously wrong\" outputs. \n> * They present dangers such as environmental and financial costs, hidden biases, potential for deception, and lack of understanding of underlying concepts.\n> \n> **Debate:**\n> \n> * Some argue that LLMs are merely \"stochastic parrots\" incapable of understanding language.\n> * Others believe that with enough data, LLMs can truly understand language.\n> \n> **Arguments for \"Stochastic Parrot\" Theory:**\n> \n> * LLMs often generate \"hallucinations\" - fake information presented as fact.\n> * They fail to understand complex or ambiguous grammar, indicating a lack of deeper meaning comprehension. \n> \n> **Arguments against \"Stochastic Parrot\" Theory:**\n> \n> * LLMs perform well on benchmarks for reasoning, common sense, and language understanding.\n> * They demonstrate an ability to predict future events based on information in prompts.\n> *  \"Mechanistic interpretability\" studies suggest LLMs develop internal representations of the world, indicating a form of understanding. \n> \n> **Ongoing Research:**\n> \n> * The debate about LLMs and understanding continues with ongoing research and analysis. \n> * While some argue that LLMs are nothing more than pattern matchers, others explore evidence suggesting potential for genuine language understanding. \n> \n> \n> Based on:\n>   https://en.wikipedia.org/wiki/Stochastic_parrot"
          },
          "metadata": {}
        }
      ],
      "source": [
        "from IPython.display import display\n",
        "\n",
        "for e in example:\n",
        "  display(to_markdown(e))"
      ]
    },
    {
      "cell_type": "markdown",
      "metadata": {
        "id": "SKcH1LICeg5Z"
      },
      "source": [
        "### Pass the tools to the model"
      ]
    },
    {
      "cell_type": "markdown",
      "metadata": {
        "id": "qQcxR7cjLjGM"
      },
      "source": [
        "If you pass a list of functions to the `GenerativeModel`'s `tools` argument,\n",
        "it will extract a schema from the function's signature and type hints, and then pass schema along to the API calls. In response the model may return a `FunctionCall` object asking to call the function.\n",
        "\n",
        "Note: This approach only handles annotations of `AllowedTypes = int | float | str | dict | list['AllowedTypes']`\n",
        "\n",
        "The `GenerativeModel` will keep a reference to the function inself, so that it _can_ execute the function locally later."
      ]
    },
    {
      "cell_type": "code",
      "execution_count": 7,
      "metadata": {
        "id": "39kqTnBRLDeQ"
      },
      "outputs": [],
      "source": [
        "model = genai.GenerativeModel(\n",
        "    'gemini-1.5-flash',\n",
        "    tools=[wikipedia_search],\n",
        "    generation_config={'temperature': 0.6})"
      ]
    },
    {
      "cell_type": "markdown",
      "metadata": {
        "id": "VedPbpzlh6jX"
      },
      "source": [
        "## Generate supporting search queries"
      ]
    },
    {
      "cell_type": "markdown",
      "metadata": {
        "id": "5sLKZik7isBW"
      },
      "source": [
        "In order to have multiple supporting search queries to the user's original query, you will ask the model to generate more such queries. This would help the engine to cover the asked question on comprehensive levels."
      ]
    },
    {
      "cell_type": "code",
      "execution_count": 8,
      "metadata": {
        "id": "Z-Ym3H9KIosY"
      },
      "outputs": [],
      "source": [
        "instructions = \"\"\"You have access to the Wikipedia API which you will be using\n",
        "to answer a user's query. Your job is to generate a list of search queries which\n",
        "might answer a user's question. Be creative by using various key-phrases from\n",
        "the user's query. To generate variety of queries, ask questions which are\n",
        "related to  the user's query that might help to find the answer. The more\n",
        "queries you generate the better are the odds of you finding the correct answer.\n",
        "Here is an example:\n",
        "\n",
        "user: Tell me about Cricket World cup 2023 winners.\n",
        "\n",
        "function_call: wikipedia_search(['What is the name of the team that\n",
        "won the Cricket World Cup 2023?', 'Who was the captain of the Cricket World Cup\n",
        "2023 winning team?', 'Which country hosted the Cricket World Cup 2023?', 'What\n",
        "was the venue of the Cricket World Cup 2023 final match?', 'Cricket World cup 2023',\n",
        "'Who lifted the Cricket World Cup 2023 trophy?'])\n",
        "\n",
        "The search function will return a list of article summaries, use these to\n",
        "answer the  user's question.\n",
        "\n",
        "Here is the user's query: {query}\n",
        "\"\"\""
      ]
    },
    {
      "cell_type": "markdown",
      "metadata": {
        "id": "3Wyn3lV-d5S_"
      },
      "source": [
        "In order to yield creative and a more random variety of questions, you will set the model's temperature parameter to a value higher. Values can range from [0.0,1.0], inclusive. A value closer to 1.0 will produce responses that are more varied and creative, while a value closer to 0.0 will typically result in more straightforward responses from the model."
      ]
    },
    {
      "cell_type": "markdown",
      "metadata": {
        "id": "TD1vU6FXhYO5"
      },
      "source": [
        "## Enable automatic function calling and call the API"
      ]
    },
    {
      "cell_type": "markdown",
      "metadata": {
        "id": "qyUSnXJ5hg6x"
      },
      "source": [
        "Now start a new chat with `enable_automatic_function_calling=True`. With it enabled, the `genai.ChatSession` will handle the back and forth required to call the function, and return the final response:"
      ]
    },
    {
      "cell_type": "code",
      "execution_count": 9,
      "metadata": {
        "id": "ZNJqA60yKNpT",
        "outputId": "cfc41fde-2b25-41f8-b84d-723b72ed8384",
        "colab": {
          "base_uri": "https://localhost:8080/",
          "height": 989
        }
      },
      "outputs": [
        {
          "output_type": "stream",
          "name": "stdout",
          "text": [
            "Searching for \"How do deep-sea creatures survive?\"\n",
            "Related search terms: ['Deep-sea community', 'Still Wakes the Deep', 'Deep sea']\n",
            "Fetching page: \"Deep-sea community\"\n",
            "Information Source: https://en.wikipedia.org/wiki/Deep-sea_community\n",
            "Fetching page: \"Still Wakes the Deep\"\n",
            "Information Source: https://en.wikipedia.org/wiki/Still_Wakes_the_Deep\n",
            "Fetching page: \"Deep sea\"\n",
            "Information Source: https://en.wikipedia.org/wiki/Deep_sea\n",
            "Searching for \"What are the adaptations of deep-sea life?\"\n",
            "Related search terms: ['Deep sea', 'Deep-sea fish', 'Deep-sea community']\n",
            "Fetching page: \"Deep-sea fish\"\n",
            "Information Source: https://en.wikipedia.org/wiki/Deep-sea_fish\n",
            "Searching for \"Deep-sea life survival mechanisms\"\n",
            "Related search terms: ['Deep-sea community', 'Deep sea mining', 'Deepsea Challenger']\n",
            "Fetching page: \"Deep sea mining\"\n",
            "Information Source: https://en.wikipedia.org/wiki/Deep_sea_mining\n",
            "Fetching page: \"Deepsea Challenger\"\n",
            "Information Source: https://en.wikipedia.org/wiki/Deepsea_Challenger\n",
            "Searching for \"How do deep-sea animals survive in the dark?\"\n",
            "Related search terms: ['Deep sea', 'Deep-sea fish', 'Cyclothone']\n",
            "Fetching page: \"Cyclothone\"\n",
            "Information Source: https://en.wikipedia.org/wiki/Cyclothone\n",
            "Searching for \"Deep-sea food chain\"\n",
            "Related search terms: ['Deep-sea community', 'Marine food web', 'Deep sea mining']\n",
            "Fetching page: \"Marine food web\"\n",
            "Information Source: https://en.wikipedia.org/wiki/Marine_food_web\n",
            "Searching for \"What are the challenges of deep-sea life?\"\n",
            "Related search terms: ['Deep-sea community', 'Deep-sea exploration', 'Deep sea']\n",
            "Fetching page: \"Deep-sea exploration\"\n",
            "Information Source: https://en.wikipedia.org/wiki/Deep-sea_exploration\n",
            "Searching for \"How do deep-sea organisms survive under pressure?\"\n",
            "Related search terms: ['Deep sea', 'Deep-sea fish', 'Deep-sea community']\n",
            "Searching for \"Deep-sea life adaptations to pressure\"\n",
            "Related search terms: ['Deep sea', 'Deep-sea gigantism', 'Deep-sea fish']\n",
            "Fetching page: \"Deep-sea gigantism\"\n",
            "Information Source: https://en.wikipedia.org/wiki/Deep-sea_gigantism\n",
            "Searching for \"Deep-sea life adaptations to lack of sunlight\"\n",
            "Related search terms: ['Deep sea', 'Deep-sea fish', 'Deep-sea community']\n",
            "Searching for \"How do deep-sea organisms survive in cold temperatures?\"\n",
            "Related search terms: ['Deep sea', 'Deep-sea fish', 'Psychrophile']\n",
            "Fetching page: \"Psychrophile\"\n",
            "Information Source: https://en.wikipedia.org/wiki/Psychrophile\n",
            "Searching for \"Deep-sea life adaptations to cold temperatures\"\n",
            "Related search terms: ['Deep-sea gigantism', 'Deep sea', 'Deep-sea fish']\n",
            "Information Sources:\n",
            "     https://en.wikipedia.org/wiki/Deep-sea_community\n",
            "     https://en.wikipedia.org/wiki/Still_Wakes_the_Deep\n",
            "     https://en.wikipedia.org/wiki/Deep_sea\n",
            "     https://en.wikipedia.org/wiki/Deep-sea_fish\n",
            "     https://en.wikipedia.org/wiki/Deep_sea_mining\n",
            "     https://en.wikipedia.org/wiki/Deepsea_Challenger\n",
            "     https://en.wikipedia.org/wiki/Cyclothone\n",
            "     https://en.wikipedia.org/wiki/Marine_food_web\n",
            "     https://en.wikipedia.org/wiki/Deep-sea_exploration\n",
            "     https://en.wikipedia.org/wiki/Deep-sea_gigantism\n",
            "     https://en.wikipedia.org/wiki/Psychrophile\n"
          ]
        }
      ],
      "source": [
        "model = genai.GenerativeModel(\n",
        "    'gemini-1.5-flash', tools=[wikipedia_search], generation_config={'temperature': 0.6})\n",
        "\n",
        "chat = model.start_chat(enable_automatic_function_calling=True)\n",
        "\n",
        "query = \"Explain how deep-sea life survives.\"\n",
        "\n",
        "res = chat.send_message(instructions.format(query=query))"
      ]
    },
    {
      "cell_type": "code",
      "execution_count": 10,
      "metadata": {
        "id": "1l8KWb13M_lJ",
        "outputId": "c693e0f9-91e0-4b23-f05d-66074ee2f463",
        "colab": {
          "base_uri": "https://localhost:8080/",
          "height": 323
        }
      },
      "outputs": [
        {
          "output_type": "execute_result",
          "data": {
            "text/plain": [
              "<IPython.core.display.Markdown object>"
            ],
            "text/markdown": "> Deep-sea life faces unique challenges due to the extreme conditions in the ocean depths. To survive, these organisms have evolved remarkable adaptations. \n> \n> Here's a summary of how they cope:\n> \n> * **Darkness:** Most deep-sea creatures live in perpetual darkness. Many have evolved bioluminescence, producing their own light for communication, hunting, and attracting mates.\n> * **High Pressure:** The immense pressure at depth can crush most organisms. Deep-sea creatures have adapted with gelatinous flesh, minimal skeletal structures, and specialized proteins that resist pressure.\n> * **Cold Temperatures:** The deep sea is very cold. Organisms have adapted with enzymes that function at low temperatures, and some produce antifreeze proteins to prevent ice formation.\n> * **Limited Food:** Food is scarce in the deep sea. Creatures have slow metabolisms, efficient digestion, and some rely on scavenging or filter feeding.\n> * **Chemosynthesis:** In areas like hydrothermal vents and cold seeps, some organisms use chemosynthesis, a process that uses chemicals from the environment to produce energy. This forms the base of unique food webs.\n> \n> Deep-sea life is a testament to the incredible adaptability of life on Earth. These organisms have overcome extreme challenges to thrive in one of the most inhospitable environments on our planet. \n"
          },
          "metadata": {},
          "execution_count": 10
        }
      ],
      "source": [
        "to_markdown(res.text)"
      ]
    },
    {
      "cell_type": "markdown",
      "metadata": {
        "id": "ua7DPlj7HZyO"
      },
      "source": [
        "Check for additional citations:"
      ]
    },
    {
      "cell_type": "code",
      "execution_count": 11,
      "metadata": {
        "id": "ASotq7EcHAeo",
        "outputId": "1ba3a09c-2f7f-44d1-b668-e0e54c445621",
        "colab": {
          "base_uri": "https://localhost:8080/",
          "height": 35
        }
      },
      "outputs": [
        {
          "output_type": "execute_result",
          "data": {
            "text/plain": [
              "'No citations found'"
            ],
            "application/vnd.google.colaboratory.intrinsic+json": {
              "type": "string"
            }
          },
          "metadata": {},
          "execution_count": 11
        }
      ],
      "source": [
        "res.candidates[0].citation_metadata or 'No citations found'"
      ]
    },
    {
      "cell_type": "markdown",
      "metadata": {
        "id": "A0CfKMjYFSQm"
      },
      "source": [
        "That looks like it worked. You can go through the chat history to see the details of what was sent and received in the function calls:"
      ]
    },
    {
      "cell_type": "code",
      "execution_count": 12,
      "metadata": {
        "id": "_9h2b8saNnxh",
        "outputId": "a5d4ecf6-ec6e-4a50-8b74-d968235c6243",
        "colab": {
          "base_uri": "https://localhost:8080/"
        }
      },
      "outputs": [
        {
          "output_type": "stream",
          "name": "stdout",
          "text": [
            "user -> {\n",
            "  \"text\": \"You have access to the Wikipedia API which you will be using\\nto answer a user's query. Your job is to generate a list of search queries which\\nmight answer a user's question. Be creative by using various key-phrases from\\nthe user's query. To generate variety of queries, ask questions which are\\nrelated to  the user's query that might help to find the answer. The more\\nqueries you generate the better are the odds of you finding the correct answer.\\nHere is an example:\\n\\nuser: Tell me about Cricket World cup 2023 winners.\\n\\nfunction_call: wikipedia_search(['What is the name of the team that\\nwon the Cricket World Cup 2023?', 'Who was the captain of the Cricket World Cup\\n2023 winning team?', 'Which country hosted the Cricket World Cup 2023?', 'What\\nwas the venue of the Cricket World Cup 2023 final match?', 'Cricket World cup 2023',\\n'Who lifted the Cricket World Cup 2023 trophy?'])\\n\\nThe search function will return a list of article summaries, use these to\\nanswer the  user's question.\\n\\nHere is the user's query: Explain how deep-sea life survives.\\n\"\n",
            "}\n",
            "------------------------------------------------------------\n",
            "model -> {\n",
            "  \"function_call\": {\n",
            "    \"name\": \"wikipedia_search\",\n",
            "    \"args\": {\n",
            "      \"search_queries\": [\n",
            "        \"How do deep-sea creatures survive?\",\n",
            "        \"What are the adaptations of deep-sea life?\",\n",
            "        \"Deep-sea life survival mechanisms\",\n",
            "        \"How do deep-sea animals survive in the dark?\",\n",
            "        \"Deep-sea food chain\",\n",
            "        \"What are the challenges of deep-sea life?\",\n",
            "        \"How do deep-sea organisms survive under pressure?\",\n",
            "        \"Deep-sea life adaptations to pressure\",\n",
            "        \"Deep-sea life adaptations to lack of sunlight\",\n",
            "        \"How do deep-sea organisms survive in cold temperatures?\",\n",
            "        \"Deep-sea life adaptations to cold temperatures\"\n",
            "      ]\n",
            "    }\n",
            "  }\n",
            "}\n",
            "------------------------------------------------------------\n",
            "user -> {\n",
            "  \"function_response\": {\n",
            "    \"name\": \"wikipedia_search\",\n",
            "    \"response\": {\n",
            "      \"result\": [\n",
            "        \"## Relevant Information about Deep-Sea Creature Survival:\\n\\n**1. Energy Sources:**\\n\\n* **Marine snow:**  Particulate organic matter sinking from the surface, a crucial food source for deep-sea creatures.\\n* **Whale falls:** Decomposition of dead whales provides a massive influx of nutrients, supporting diverse communities.\\n* **Chemosynthesis:**  \\n    * **Hydrothermal vents:**  Hot springs releasing chemicals used by bacteria for chemosynthesis, forming the base of a unique food web.\\n    * **Cold seeps:**  Areas with seepage of methane and other hydrocarbons, also supporting chemosynthetic organisms.\\n\\n**2. Environmental Adaptations:**\\n\\n* **Darkness:**  Most deep-sea creatures rely on bioluminescence for communication and hunting.\\n* **Hyperbaricity (High Pressure):** Creatures have evolved to withstand immense pressure, often with gelatinous flesh and minimal skeletal structures.\\n* **Temperature:**  \\n    * **Constant Cold:** Most of the deep sea is cold and stable, but hydrothermal vents present rapid temperature changes.\\n* **Salinity:** Generally consistent except in certain areas like the Mediterranean Sea and brine pools.\\n\\n**3. Zones:**\\n\\n* **Mesopelagic (Twilight Zone):**  Limited light, vertical migrations to feed at night.\\n* **Bathyal (Midnight Zone):**  No light, sparse nutrients, reduced body structures to conserve energy.\\n* **Abyssal and Hadal:**  Extreme depths, chemotrophs and predators adapted to immense pressure.\\n\\n**4. Challenges of Research:**\\n\\n* **Extreme Pressure:**  Difficult to bring creatures to the surface without causing harm.\\n* **Limited Access:**  Deep-sea exploration is expensive and technically challenging.\\n\\n**5. Research Methods:**\\n\\n* **Remotely Operated Underwater Vehicles (ROVs):**  Allow for direct observation.\\n* **Pressurized Fish Traps:**  Help maintain pressure for surface study.\\n* **PERISCOP:**  Maintains water pressure during ascent to preserve samples. \\n\\n\\nBased on:\\n  https://en.wikipedia.org/wiki/Deep-sea_community\",\n",
            "        \"## Relevant Information about Deep-Sea Creatures Surviving:\\n\\nThe provided text focuses on the **video game \\\"Still Wakes the Deep\\\"** and does **not contain any information about how deep-sea creatures survive**.  \\n\\nThe text discusses:\\n\\n* **The game's plot**:  A story about an electrician trapped on a damaged oil rig in the North Sea, pursued by mysterious monsters.\\n* **The game's setting**: The story takes place on an oil rig in the North Sea, with the ocean being a secondary antagonist representing fears of vertigo, drowning, and claustrophobia. \\n* **The game's gameplay**: The game is a survival horror title with a focus on stealth, light puzzle solving, and avoiding encounters with the creatures. \\n\\nThe provided text **does not discuss the biology or survival strategies of real-world deep-sea creatures**. \\n\\n\\nBased on:\\n  https://en.wikipedia.org/wiki/Still_Wakes_the_Deep\",\n",
            "        \"## Deep-sea creature survival adaptations:\\n\\n**Feeding:**\\n\\n* **Scavenging:**  Feeding on dead organisms and organic matter.\\n* **Predation:** Hunting and consuming other creatures.\\n* **Filtration:**  Filtering food particles from the water.\\n* **Marine snow:** Feeding on organic matter falling from the surface.\\n\\n**Physical Adaptations:**\\n\\n* **Jelly-like flesh:**  Low density, helps with buoyancy.\\n* **Flotation chamber:**  Filled with ammonium chloride for buoyancy.\\n* **Small size:** Conserves energy.\\n* **Slow metabolisms:**  Minimizes energy needs.\\n* **Elongated bodies:**  Streamlined for movement.\\n* **Weak muscles and skeletal structures:**  Adapted to low food availability.\\n* **Extendable jaws and recurved teeth:**  Efficient for catching prey.\\n* **Hermaphroditism:**  Facilitates reproduction in low-density populations.\\n\\n**Vision:**\\n\\n* **Large, tubular eyes:**  Maximizes light capture.\\n* **Upward field of vision:**  Helps locate prey silhouettes.\\n* **Bioluminescence:**  Creates counter-illumination camouflage.\\n* **Retroreflectors:**  Enhance vision in low light.\\n\\n**Other Adaptations:**\\n\\n* **Pressure tolerance:**  Proteins, anatomical structures, and metabolic systems adapted for high pressure.\\n* **Chemosynthesis:**  Utilizing energy from hydrothermal vents through symbiotic bacteria.\\n\\n**Challenges of deep-sea life:**\\n\\n* **Lack of sunlight:**  Limits photosynthesis and restricts plant life.\\n* **High pressure:**  Requires special adaptations.\\n* **Low temperatures:**  Affects metabolic rates.\\n* **Scarce food:**  Creates competition and adaptations for low energy needs.\\n\\n\\nBased on:\\n  https://en.wikipedia.org/wiki/Deep_sea\",\n",
            "        \"## Adaptations of Deep-Sea Life:\\n\\n**Environment:**\\n\\n* Deep-sea is in darkness, cold, has low oxygen levels, and high pressure.\\n* Organisms rely on marine snow for energy as there is no sunlight for photosynthesis.\\n* Hydrostatic pressure increases with depth, affecting cell membrane fluidity and metabolic reactions.\\n\\n**Evolution:**\\n\\n* Deep-sea fish have evolved specific adaptations to survive in their harsh environment.\\n* Some deep-sea fish are descended from older lineages, indicating earlier colonization.\\n* Fossil evidence suggests deep-sea bony fish originated around the Early Cretaceous.\\n\\n**Characteristics:**\\n\\n* **Vision:** Many deep-sea fish are blind or have large, sensitive eyes adapted for bioluminescent light.\\n* **Bioluminescence:** Many organisms produce light for various purposes: finding prey, attracting mates, communicating, and camouflage.\\n* **Buoyancy:** Deep-sea fish lack swim bladders and instead use gelatinous layers, low bone density, and high fat content for buoyancy.\\n* **Food:**  Due to low productivity, deep-sea fish have adaptations for efficient digestion, including large mouths, sharp teeth, and expandable bodies.\\n* **Reproduction:**  Deep-sea fish have unique strategies for mating in the dark, including bioluminescence, hermaphroditism, and extreme sexual dimorphism (e.g., anglerfish).\\n\\n**Adaptations to High Pressure:**\\n\\n* Deep-sea organisms have evolved changes in their protein structure and cellular membranes to withstand pressure.\\n* They have higher proportions of unsaturated fatty acids in their cell membranes to maintain fluidity.\\n* They exhibit lower changes of entropy and enthalpy compared to surface organisms.\\n\\n**Specific Examples:**\\n\\n* **Lanternfish:**  Among the most abundant deep-sea fish, playing a crucial role in the deep scattering layer.\\n* **Mesopelagic fish:**  Undergo daily vertical migrations, often following zooplankton, and have adaptations for low light conditions.\\n* **Bathypelagic fish:**  Adapted for sedentary life with low energy expenditure, have weak muscles, and rely on sensory systems like the lateral line and olfactory system.\\n\\n**Endangered Species:**\\n\\n* Deep-sea fish are vulnerable to overfishing due to their slow reproduction rates. \\n* Some species, like blue hake and spiny eel, are on the verge of extinction. \\n\\n\\nBased on:\\n  https://en.wikipedia.org/wiki/Deep-sea_fish\",\n",
            "        \"The text you provided does not contain information about deep-sea life survival mechanisms. It focuses entirely on deep-sea mining, its processes, regulations, environmental impacts, and related controversies. \\n\\n\\nBased on:\\n  https://en.wikipedia.org/wiki/Deep_sea_mining\",\n",
            "        \"## Relevant information about deep-sea life survival mechanisms:\\n\\n**The provided text does not contain any information about deep-sea life survival mechanisms.** \\n\\nThe text is focused on the Deepsea Challenger submersible, its design, development, and dives, including the record-setting dive to the Challenger Deep. \\n\\nIt mentions finding anemones and jellyfish during dives, but it does not discuss their survival mechanisms or those of other deep-sea life. \\n\\n\\nBased on:\\n  https://en.wikipedia.org/wiki/Deepsea_Challenger\",\n",
            "        \"## Relevant Information:\\n\\n**How deep-sea animals survive in the dark:**\\n\\n* **Limited light:** Deep sea organisms cannot rely on vision for hunting, avoiding predators, or finding mates.\\n* **Counter-illumination:** Cyclothone fish have bioluminescent spots on their underside, allowing them to blend in with the surrounding light and remain unseen by predators below. \\n* **Strong sense of smell:** Cyclothone males likely have a strong sense of smell to find mates in the dark. \\n\\n\\nBased on:\\n  https://en.wikipedia.org/wiki/Cyclothone\",\n",
            "        \"## Relevant Information about the Deep-Sea Food Chain:\\n\\n**Phytoplankton:**\\n* Base of the ocean food web.\\n* Microscopic algae and plant-like organisms.\\n* Produce their own food through photosynthesis.\\n* Sequester carbon dioxide into the ocean.\\n\\n**Zooplankton:**\\n* Second trophic level, consuming phytoplankton.\\n* Tiny animals like crustaceans, fish larvae, and fry.\\n* Mostly filter feeders.\\n* Important prey for forage fish.\\n\\n**Higher Order Consumers:**\\n* Marine invertebrates, fish, marine mammals, and seabirds.\\n* Forage fish occupy a central role, feeding on zooplankton and being prey for larger fish and mammals.\\n* Predators include swordfish, seals, gannets, orcas, and sharks.\\n\\n**Microorganisms:**\\n* Play a significant role in marine ecosystems.\\n* The viral shunt pathway recycles marine microbial particulate organic matter (POM) into dissolved organic matter (DOM).\\n* Bacteria in the microbial loop decompose particulate detritus, introducing organic carbon into the food web.\\n\\n**Viruses:**\\n* Most abundant biological entities on the planet.\\n* Control microbial community dynamics, host metabolic status, and biogeochemical cycling.\\n* Some viruses can infect and cause the death of specific marine organisms, impacting the food web.\\n\\n**Fungi:**\\n* Parasitic chytrids transfer material from inedible phytoplankton to zooplankton.\\n* Parasitic and saprotrophic fungi directly assimilate phytoplankton organic carbon.\\n\\n**Habitats:**\\n* **Pelagic webs:**  Continuum of trophic pathways with herbivorous food chain and microbial loop as end members.\\n* **Mesopelagic webs:**  Twilight zone of the ocean, 200-1,000 meters deep, responsible for removing carbon dioxide from the atmosphere.\\n* **Ocean surface:** Biofilm-like habitat harbouring surface-dwelling microorganisms.\\n* **Ocean floor:**  Benthic habitats, including seeps and vents.\\n* **Coastal webs:**  Estuaries and continental shelves, highly productive areas.\\n* **Polar webs:**  Arctic and Antarctic marine systems with distinct topographical structures and food web dynamics.\\n\\n**Foundation and Keystone Species:**\\n* **Foundation species:**  Dominant role in structuring an ecological community, shaping its environment and defining its ecosystem (e.g., mangroves, seagrass, kelp forests).\\n* **Keystone species:**  Large effects, disproportionate to their numbers, within ecosystem food webs (e.g., sea otters, sea stars).\\n\\n**Anthropogenic Effects:**\\n* **Overfishing:**  Can alter food web dynamics by removing top predators or important prey species.\\n* **Acidification:**  Threatens marine organisms, especially those with calcium carbonate shells.\\n* **Climate change:**  Warming temperatures and ocean acidification are causing shifts in species ranges and altering predator-prey relationships, impacting food web stability.\\n\\n**Key Points:**\\n* The deep-sea food web is complex and interconnected, with many cryptic interactions.\\n* The role of microorganisms and viruses is increasingly recognized as significant.\\n* Human activities, particularly overfishing and climate change, are having profound impacts on the deep-sea food web. \\n\\n\\nBased on:\\n  https://en.wikipedia.org/wiki/Marine_food_web\",\n",
            "        \"The text focuses on the history of deep-sea exploration, not the challenges of deep-sea life.  Therefore, no relevant information about the challenges of deep-sea life can be extracted from this text. \\n\\n\\nBased on:\\n  https://en.wikipedia.org/wiki/Deep-sea_exploration\",\n",
            "        \"## Relevant Information about Deep-Sea Life Adaptations to Pressure:\\n\\n**Deep-sea gigantism:**\\n\\n* **Definition:**  Tendency for deep-sea dwelling animals to be larger than their shallower-water relatives.\\n* **Observed in:** Mysids, euphausiids, decapods, isopods, amphipods, cephalopods, cnidarians, and eels (Anguilliformes).\\n* **Examples:** Big red jellyfish, Stygiomedusa jellyfish, giant isopod, giant ostracod, giant sea spider, giant amphipod, Japanese spider crab, giant oarfish, deepwater stingray, seven-arm octopus, colossal squid, giant squid, Megalocranchia fisheri, robust clubhook squid, Dana octopus squid, cockatoo squid, giant warty squid, and bigfin squids.\\n* **Not observed in:** Meiofauna (organisms that pass through a 1 mm mesh).\\n\\n**Explanations for deep-sea gigantism:**\\n\\n* **Lower Temperature:** Similar to Bergmann's rule (larger size with decreasing temperature). \\n    * Increased cell size and lifespan lead to larger body size.\\n    * Reduced temperature gradient in Arctic/Antarctic seas suggests pressure may not be a major factor.\\n* **Food Scarcity:** Larger size improves foraging for widely scattered resources.\\n    * Larger offspring can drift farther.\\n    * Giant isopods can survive long periods without food.\\n    * Kleiber's law: Larger animals have more efficient metabolism.\\n* **Reduced Predation Pressure:** Less frequent predation at greater depths.\\n* **Increased Dissolved Oxygen:** Larger organisms can intake more oxygen, important for respiration in deeper waters. \\n    * Higher dissolved oxygen levels at depth due to increased pressure, lower salinity, and lower temperatures.\\n    * Risk of oxygen toxicity with high oxygen intake. \\n\\n\\nBased on:\\n  https://en.wikipedia.org/wiki/Deep-sea_gigantism\",\n",
            "        \"## Relevant Information on Deep-Sea Organisms Surviving Cold Temperatures:\\n\\n* **Psychrophiles:** These are organisms that thrive in low temperatures (ranging from -20\\u00b0C to 20\\u00b0C). They are found in permanently cold environments like the deep sea and polar regions. \\n* **Deep Sea Habitat:** Deep-sea psychrophiles must adapt to extreme pressure in addition to cold temperatures.\\n* **Adaptations:**\\n    * **Ice-induced desiccation and vitrification:** Protects them from freezing.\\n    * **High content of short, unsaturated fatty acids in cell membranes:** Keeps the membrane fluid at low temperatures.\\n    * **Antifreeze proteins:** Prevents ice formation and recrystallization, keeping the internal space liquid.\\n    * **Enzyme flexibility:** Enzymes adapt to cold by being more flexible.\\n* **Examples of Deep-Sea Psychrophiles:**\\n    * **Bacteria:** Arthrobacter sp., Psychrobacter sp., Halomonas, Pseudomonas, Hyphomonas, Sphingomonas\\n    * **Other organisms:** Some lichens, phytoplankton, fungi \\n\\n\\nBased on:\\n  https://en.wikipedia.org/wiki/Psychrophile\"\n",
            "      ]\n",
            "    }\n",
            "  }\n",
            "}\n",
            "------------------------------------------------------------\n",
            "model -> {\n",
            "  \"text\": \"Deep-sea life faces unique challenges due to the extreme conditions in the ocean depths. To survive, these organisms have evolved remarkable adaptations. \\n\\nHere's a summary of how they cope:\\n\\n* **Darkness:** Most deep-sea creatures live in perpetual darkness. Many have evolved bioluminescence, producing their own light for communication, hunting, and attracting mates.\\n* **High Pressure:** The immense pressure at depth can crush most organisms. Deep-sea creatures have adapted with gelatinous flesh, minimal skeletal structures, and specialized proteins that resist pressure.\\n* **Cold Temperatures:** The deep sea is very cold. Organisms have adapted with enzymes that function at low temperatures, and some produce antifreeze proteins to prevent ice formation.\\n* **Limited Food:** Food is scarce in the deep sea. Creatures have slow metabolisms, efficient digestion, and some rely on scavenging or filter feeding.\\n* **Chemosynthesis:** In areas like hydrothermal vents and cold seeps, some organisms use chemosynthesis, a process that uses chemicals from the environment to produce energy. This forms the base of unique food webs.\\n\\nDeep-sea life is a testament to the incredible adaptability of life on Earth. These organisms have overcome extreme challenges to thrive in one of the most inhospitable environments on our planet. \\n\"\n",
            "}\n",
            "------------------------------------------------------------\n"
          ]
        }
      ],
      "source": [
        "for content in chat.history:\n",
        "  part = content.parts[0]\n",
        "\n",
        "  print(f'{content.role} -> ', end='')\n",
        "  print(json.dumps(type(part).to_dict(part), indent=2))\n",
        "  print('---' * 20)\n"
      ]
    },
    {
      "cell_type": "markdown",
      "metadata": {
        "id": "WDWc9Fj9Ig6A"
      },
      "source": [
        "In the chat history you can see all 4 steps:\n",
        "\n",
        "1. The user sent the query.\n",
        "2. The model replied with a `genai.protos.FunctionCall` calling the `wikipedia_search` with a number of relevant searches.\n",
        "3. Because you set `enable_automatic_function_calling=True` when creating the `genai.ChatSession`, it  executed the search function and returned the list of article summaries to the model.\n",
        "4. Folliwing the instructions in the prompt, the model generated a final answer based on those summaries.\n"
      ]
    },
    {
      "cell_type": "markdown",
      "metadata": {
        "id": "PJP1EAgfnPUA"
      },
      "source": [
        "## [Optional] Manually execute the function call"
      ]
    },
    {
      "cell_type": "markdown",
      "metadata": {
        "id": "Sa5ke2ssKl7M"
      },
      "source": [
        "If you want to understand what happened behind the scenes, this section executes the `FunctionCall` manually to demonstrate."
      ]
    },
    {
      "cell_type": "code",
      "execution_count": 13,
      "metadata": {
        "id": "wavbHrL3K5vo"
      },
      "outputs": [],
      "source": [
        "chat = model.start_chat()"
      ]
    },
    {
      "cell_type": "code",
      "execution_count": 14,
      "metadata": {
        "id": "ON4LTcmiLs2E"
      },
      "outputs": [],
      "source": [
        "result = chat.send_message(instructions.format(query=query))"
      ]
    },
    {
      "cell_type": "markdown",
      "metadata": {
        "id": "__JN3YuHe7fR"
      },
      "source": [
        "Initially the model returns a FunctionCall:"
      ]
    },
    {
      "cell_type": "code",
      "execution_count": 15,
      "metadata": {
        "id": "Lgngdvcdi06F",
        "outputId": "c13b22d3-0b9f-4c21-be44-e81dcd7cf331",
        "colab": {
          "base_uri": "https://localhost:8080/"
        }
      },
      "outputs": [
        {
          "output_type": "stream",
          "name": "stdout",
          "text": [
            "{\n",
            "  \"name\": \"wikipedia_search\",\n",
            "  \"args\": {\n",
            "    \"search_queries\": [\n",
            "      \"How do deep sea creatures survive?\",\n",
            "      \"What are the adaptations of deep sea life?\",\n",
            "      \"Deep sea life survival\",\n",
            "      \"Adaptations of deep sea animals\",\n",
            "      \"Challenges of deep sea life\",\n",
            "      \"Deep sea environment\",\n",
            "      \"Deep sea food chain\",\n",
            "      \"Deep sea pressure\",\n",
            "      \"Deep sea temperature\",\n",
            "      \"Deep sea light\",\n",
            "      \"Deep sea organisms\",\n",
            "      \"How do deep sea organisms survive in the absence of sunlight?\"\n",
            "    ]\n",
            "  }\n",
            "}\n"
          ]
        }
      ],
      "source": [
        "fc = result.candidates[0].content.parts[0].function_call\n",
        "fc = type(fc).to_dict(fc)\n",
        "print(json.dumps(fc, indent=2))"
      ]
    },
    {
      "cell_type": "code",
      "execution_count": 16,
      "metadata": {
        "id": "Bfp1Kqv7PE8N",
        "outputId": "097db4ec-b603-46a0-d6f5-91f952ca7a6c",
        "colab": {
          "base_uri": "https://localhost:8080/",
          "height": 35
        }
      },
      "outputs": [
        {
          "output_type": "execute_result",
          "data": {
            "text/plain": [
              "'wikipedia_search'"
            ],
            "application/vnd.google.colaboratory.intrinsic+json": {
              "type": "string"
            }
          },
          "metadata": {},
          "execution_count": 16
        }
      ],
      "source": [
        "fc['name']"
      ]
    },
    {
      "cell_type": "markdown",
      "metadata": {
        "id": "xpD3axtDmfZb"
      },
      "source": [
        "Call the function with generated arguments to get the results."
      ]
    },
    {
      "cell_type": "code",
      "execution_count": 17,
      "metadata": {
        "id": "Ek4g-CTAPSou",
        "outputId": "cb6167f4-faf9-4f78-e355-5755da05c258",
        "colab": {
          "base_uri": "https://localhost:8080/",
          "height": 1000
        }
      },
      "outputs": [
        {
          "output_type": "stream",
          "name": "stdout",
          "text": [
            "Searching for \"How do deep sea creatures survive?\"\n",
            "Related search terms: ['Deep-sea community', 'Still Wakes the Deep', 'Deep sea']\n",
            "Fetching page: \"Deep-sea community\"\n",
            "Information Source: https://en.wikipedia.org/wiki/Deep-sea_community\n",
            "Fetching page: \"Still Wakes the Deep\"\n",
            "Information Source: https://en.wikipedia.org/wiki/Still_Wakes_the_Deep\n",
            "Fetching page: \"Deep sea\"\n",
            "Information Source: https://en.wikipedia.org/wiki/Deep_sea\n",
            "Searching for \"What are the adaptations of deep sea life?\"\n",
            "Related search terms: ['Deep sea', 'Deep-sea fish', 'Deep-sea community']\n",
            "Fetching page: \"Deep-sea fish\"\n",
            "Information Source: https://en.wikipedia.org/wiki/Deep-sea_fish\n",
            "Searching for \"Deep sea life survival\"\n",
            "Related search terms: ['Deep-sea community', 'Stranded Deep', 'Deep sea mining']\n",
            "Fetching page: \"Stranded Deep\"\n",
            "Information Source: https://en.wikipedia.org/wiki/Stranded_Deep\n",
            "Stranded Deep did not match with any page id, hence skipping.\n",
            "Fetching page: \"Deep sea mining\"\n",
            "Information Source: https://en.wikipedia.org/wiki/Deep_sea_mining\n",
            "Searching for \"Adaptations of deep sea animals\"\n",
            "Related search terms: ['Deep-sea gigantism', 'Deep sea', 'Deep-sea community']\n",
            "Fetching page: \"Deep-sea gigantism\"\n",
            "Information Source: https://en.wikipedia.org/wiki/Deep-sea_gigantism\n",
            "Searching for \"Challenges of deep sea life\"\n",
            "Related search terms: ['Deep-sea community', 'Deepsea Challenger', 'Deep-sea exploration']\n",
            "Fetching page: \"Deepsea Challenger\"\n",
            "Information Source: https://en.wikipedia.org/wiki/Deepsea_Challenger\n",
            "Fetching page: \"Deep-sea exploration\"\n",
            "Information Source: https://en.wikipedia.org/wiki/Deep-sea_exploration\n",
            "Searching for \"Deep sea environment\"\n",
            "Related search terms: ['Deep-sea fish', 'Deep sea mining', 'Deep-sea gigantism']\n",
            "Searching for \"Deep sea food chain\"\n",
            "Related search terms: ['Deep-sea community', 'Marine food web', 'Deep sea mining']\n",
            "Fetching page: \"Marine food web\"\n",
            "Information Source: https://en.wikipedia.org/wiki/Marine_food_web\n",
            "Searching for \"Deep sea pressure\"\n",
            "Related search terms: ['Deep-sea gigantism', 'Deep-sea fish', 'Deep sea']\n",
            "Searching for \"Deep sea temperature\"\n",
            "Related search terms: ['Deep-sea gigantism', 'Deep-sea community', 'Deep sea']\n",
            "Searching for \"Deep sea light\"\n",
            "Related search terms: ['Deep-sea fish', 'Deep sea', 'Deep-sea community']\n",
            "Searching for \"Deep sea organisms\"\n",
            "Related search terms: ['Deep-sea fish', 'Deep sea', 'Deep-sea community']\n",
            "Searching for \"How do deep sea organisms survive in the absence of sunlight?\"\n",
            "Related search terms: ['Hydrothermal vent', 'Deep-sea community', 'Deep biosphere']\n",
            "Fetching page: \"Hydrothermal vent\"\n",
            "Information Source: https://en.wikipedia.org/wiki/Hydrothermal_vent\n",
            "Hydrothermal vent did not match with any page id, hence skipping.\n",
            "Fetching page: \"Deep biosphere\"\n",
            "Information Source: https://en.wikipedia.org/wiki/Deep_biosphere\n",
            "Information Sources:\n",
            "     https://en.wikipedia.org/wiki/Deep-sea_community\n",
            "     https://en.wikipedia.org/wiki/Still_Wakes_the_Deep\n",
            "     https://en.wikipedia.org/wiki/Deep_sea\n",
            "     https://en.wikipedia.org/wiki/Deep-sea_fish\n",
            "     https://en.wikipedia.org/wiki/Stranded_Deep\n",
            "     https://en.wikipedia.org/wiki/Deep_sea_mining\n",
            "     https://en.wikipedia.org/wiki/Deep-sea_gigantism\n",
            "     https://en.wikipedia.org/wiki/Deepsea_Challenger\n",
            "     https://en.wikipedia.org/wiki/Deep-sea_exploration\n",
            "     https://en.wikipedia.org/wiki/Marine_food_web\n",
            "     https://en.wikipedia.org/wiki/Hydrothermal_vent\n",
            "     https://en.wikipedia.org/wiki/Deep_biosphere\n"
          ]
        }
      ],
      "source": [
        "summaries = wikipedia_search(**fc['args'])"
      ]
    },
    {
      "cell_type": "markdown",
      "metadata": {
        "id": "kv4WGnG_gT3F"
      },
      "source": [
        "Now send the `FunctionResult` to the model."
      ]
    },
    {
      "cell_type": "code",
      "execution_count": 18,
      "metadata": {
        "id": "bcLuieHqj9PW",
        "outputId": "41222025-bbf7-4d2e-b8b0-a54689762588",
        "colab": {
          "base_uri": "https://localhost:8080/",
          "height": 265
        }
      },
      "outputs": [
        {
          "output_type": "execute_result",
          "data": {
            "text/plain": [
              "<IPython.core.display.Markdown object>"
            ],
            "text/markdown": "> Deep-sea life has to survive in a very different environment from life on the surface. Here are some of the challenges they face and how they overcome them:\n> \n> * **Lack of sunlight:**  Deep-sea creatures have adapted to the absence of sunlight in a few ways. Some rely on chemosynthesis, using bacteria to convert chemicals from hydrothermal vents or cold seeps into energy. Others feed on marine snow, organic matter that falls from the surface layers.  \n> * **Extreme pressure:** The immense pressure at these depths would crush most surface-dwelling organisms. Deep-sea creatures have evolved to withstand this pressure by having minimal skeletons, gelatinous flesh, and no internal cavities that could collapse.\n> * **Cold temperatures:** The deep sea is extremely cold, with temperatures generally remaining between 2-4 degrees Celsius. Deep-sea creatures have adapted to this by having slow metabolisms to conserve energy.\n> * **Limited food:** The deep sea is a food-scarce environment. Deep-sea creatures have adapted by having large mouths and sharp teeth to capture and efficiently digest prey, and by being opportunistic feeders, consuming whatever food they can find.\n> \n> Deep-sea life is incredibly diverse and has adapted to survive in one of the most challenging environments on Earth. \n"
          },
          "metadata": {},
          "execution_count": 18
        }
      ],
      "source": [
        "response = chat.send_message(\n",
        "    genai.protos.Content(\n",
        "      parts=[genai.protos.Part(\n",
        "          function_response = genai.protos.FunctionResponse(\n",
        "            name='wikipedia_search',\n",
        "            response={'result': summaries}\n",
        "          )\n",
        "      )]\n",
        "    )\n",
        ")\n",
        "\n",
        "to_markdown(response.text)"
      ]
    },
    {
      "cell_type": "markdown",
      "metadata": {
        "id": "L2Vfv8xpmuV1"
      },
      "source": [
        "## Re-ranking the search results"
      ]
    },
    {
      "cell_type": "markdown",
      "metadata": {
        "id": "cQ3JUJLeGGzA"
      },
      "source": [
        "Helper function to embed the content:"
      ]
    },
    {
      "cell_type": "code",
      "execution_count": 21,
      "metadata": {
        "id": "mSkE7EynJBwF"
      },
      "outputs": [],
      "source": [
        "def get_embeddings(content: list[str]) -> np.ndarray:\n",
        "  embeddings = genai.embed_content('models/embedding-001', content, 'SEMANTIC_SIMILARITY')\n",
        "  embds = embeddings.get('embedding', None)\n",
        "  embds = np.array(embds).reshape(len(embds), -1)\n",
        "  return embds"
      ]
    },
    {
      "cell_type": "markdown",
      "metadata": {
        "id": "tip8ArqJf_ep"
      },
      "source": [
        "Please refer to the [embeddings guide](https://ai.google.dev/docs/embeddings_guide) for more information on embeddings."
      ]
    },
    {
      "cell_type": "markdown",
      "metadata": {
        "id": "nSPyycFuFj-_"
      },
      "source": [
        "Your next step is to define functions that you can use to calculate similarity scores between two embedding vectors. These scores will help you decide which embedding vector is the most relevant vector to the user's query.\n"
      ]
    },
    {
      "cell_type": "markdown",
      "metadata": {
        "id": "ltbB0vDsKQtI"
      },
      "source": [
        "You will now implement cosine similarity as your metric. Here returned embedding vectors will be of unit length and hence their L1 norm (`np.linalg.norm()`) will be ~1. Hence, calculating cosine similarity is esentially same as calculating their dot product score."
      ]
    },
    {
      "cell_type": "code",
      "execution_count": 19,
      "metadata": {
        "id": "9iDFdzq_JWJW"
      },
      "outputs": [],
      "source": [
        "def dot_product(a: np.ndarray, b: np.ndarray):\n",
        "  return (a @ b.T)"
      ]
    },
    {
      "cell_type": "markdown",
      "metadata": {
        "id": "MrF_1c_M_Hw3"
      },
      "source": [
        "### Similarity with user's query\n",
        "\n",
        "Now it's time to find the most relevant search result returned by the Wikipedia API.\n",
        "\n",
        "Use Gemini API to get embeddings for user's query and search results."
      ]
    },
    {
      "cell_type": "code",
      "execution_count": 22,
      "metadata": {
        "id": "gK9ryjftGDNe"
      },
      "outputs": [],
      "source": [
        "search_res = get_embeddings(summaries)\n",
        "embedded_query = get_embeddings([query])"
      ]
    },
    {
      "cell_type": "markdown",
      "metadata": {
        "id": "2wwWq30uGRG3"
      },
      "source": [
        "Calculate similarity score:"
      ]
    },
    {
      "cell_type": "code",
      "execution_count": 23,
      "metadata": {
        "id": "jWlFNYIsGV0X"
      },
      "outputs": [],
      "source": [
        "sim_value = dot_product(search_res, embedded_query)"
      ]
    },
    {
      "cell_type": "markdown",
      "metadata": {
        "id": "bJW1pQQXG2w2"
      },
      "source": [
        "using `np.argmax` best candidate is selected.\n",
        "\n",
        "**Users's Input:** Explain how deep-sea life survives.\n",
        "\n",
        "**Answer:**"
      ]
    },
    {
      "cell_type": "code",
      "execution_count": 24,
      "metadata": {
        "id": "8vDMDnCsG8Wn",
        "outputId": "45a639a0-5564-43fb-d433-ae5c2d0c6892",
        "colab": {
          "base_uri": "https://localhost:8080/"
        }
      },
      "outputs": [
        {
          "output_type": "stream",
          "name": "stdout",
          "text": [
            "## Challenges of Deep Sea Life:\n",
            "\n",
            "The provided text focuses on deep-sea exploration, not the challenges of deep-sea life itself. \n",
            "Therefore, the document does not contain information relevant to the query \"Challenges of deep sea life.\" \n",
            "\n",
            "\n",
            "Based on:\n",
            "  https://en.wikipedia.org/wiki/Deep-sea_exploration\n"
          ]
        }
      ],
      "source": [
        "print(summaries[np.argmax(sim_value)])"
      ]
    },
    {
      "cell_type": "markdown",
      "metadata": {
        "id": "Ozn6mIFvoyJU"
      },
      "source": [
        "### Similarity with Hypothetical Document Embeddings (HyDE)\n",
        "\n",
        "Drawing inspiration from [Gao et al](https://arxiv.org/abs/2212.10496) the objective here is to generate a template answer to the user's query using `gemini-1.5-flash`'s internal knowledge. This hypothetical answer will serve as a baseline to calculate relevance of all the search results."
      ]
    },
    {
      "cell_type": "code",
      "execution_count": 25,
      "metadata": {
        "id": "J7m5KAkMREBH",
        "outputId": "50a7cf91-273a-4df7-e8f8-7e686efc3faa",
        "colab": {
          "base_uri": "https://localhost:8080/",
          "height": 225
        }
      },
      "outputs": [
        {
          "output_type": "execute_result",
          "data": {
            "text/plain": [
              "<IPython.core.display.Markdown object>"
            ],
            "text/markdown": "> Deep-sea life is fascinating, isn't it?  It's a whole other world down there, and it's amazing how creatures have adapted to survive in such extreme conditions.\n> \n> Firstly, the pressure! It's immense, but these creatures have evolved with special [Placeholder for biological adaptation] that allow them to withstand it. \n> \n> Secondly, the darkness. Most of the deep sea is devoid of sunlight, meaning they need alternative ways to find food.  Some rely on [Placeholder for specific feeding method] while others even create their own light through [Placeholder for bioluminescence].\n> \n> Thirdly, the lack of nutrients.  Food is scarce in the deep sea, so many creatures have developed [Placeholder for adaptation that helps them survive on little food]. This might include slow metabolisms, or even being able to eat just once every few months!\n> \n> It's truly a marvel of evolution how life has found a way to thrive in such a harsh environment.  Imagine how many other secrets the deep sea is still hiding! \n"
          },
          "metadata": {},
          "execution_count": 25
        }
      ],
      "source": [
        "hypothetical_ans_model = genai.GenerativeModel('gemini-1.5-flash')\n",
        "res = hypothetical_ans_model.generate_content(f\"\"\"Generate a hypothetical answer\n",
        "to the user's query by using your own knowledge. Assume that you know everything\n",
        "about the said topic. Do not use factual information, instead use placeholders\n",
        "to complete your answer. Your answer should feel like it has been written by a human.\n",
        "\n",
        "query: {query}\"\"\")\n",
        "\n",
        "to_markdown(res.text)"
      ]
    },
    {
      "cell_type": "markdown",
      "metadata": {
        "id": "85f4MpLgrYbW"
      },
      "source": [
        "Use Gemini API to get embeddings for the baseline answer and compare them with search results"
      ]
    },
    {
      "cell_type": "code",
      "execution_count": 26,
      "metadata": {
        "id": "fSI6-5eYI3me"
      },
      "outputs": [],
      "source": [
        "hypothetical_ans = get_embeddings([res.text])"
      ]
    },
    {
      "cell_type": "markdown",
      "metadata": {
        "id": "WxYGEWbqrh44"
      },
      "source": [
        "Calculate similarity scores to rank the search results"
      ]
    },
    {
      "cell_type": "code",
      "execution_count": 27,
      "metadata": {
        "id": "99sjvMtlJfL_"
      },
      "outputs": [],
      "source": [
        "sim_value = dot_product(search_res, hypothetical_ans)"
      ]
    },
    {
      "cell_type": "code",
      "execution_count": 28,
      "metadata": {
        "id": "C32IhIapQFNa",
        "outputId": "81d0ca32-5584-4e44-a19a-c87efa541924",
        "colab": {
          "base_uri": "https://localhost:8080/"
        }
      },
      "outputs": [
        {
          "output_type": "execute_result",
          "data": {
            "text/plain": [
              "array([[0.86446767],\n",
              "       [0.7636735 ],\n",
              "       [0.84907961],\n",
              "       [0.84644258],\n",
              "       [0.75075276],\n",
              "       [0.72567509],\n",
              "       [0.78095539],\n",
              "       [0.78923961],\n",
              "       [0.73265915],\n",
              "       [0.81705522]])"
            ]
          },
          "metadata": {},
          "execution_count": 28
        }
      ],
      "source": [
        "sim_value"
      ]
    },
    {
      "cell_type": "markdown",
      "metadata": {
        "id": "wJ7pklxursSk"
      },
      "source": [
        "using `np.argmax` best candidate is selected.\n",
        "\n",
        "**Users's Input:** Explain how deep-sea life survives.\n",
        "\n",
        "**Answer:**"
      ]
    },
    {
      "cell_type": "code",
      "execution_count": 29,
      "metadata": {
        "id": "MzTfyU_mJ8-M",
        "outputId": "9c58c660-b618-4ddd-b741-b6ad079cb890",
        "colab": {
          "base_uri": "https://localhost:8080/",
          "height": 452
        }
      },
      "outputs": [
        {
          "output_type": "execute_result",
          "data": {
            "text/plain": [
              "<IPython.core.display.Markdown object>"
            ],
            "text/markdown": "> ## Relevant information about how deep-sea creatures survive:\n> \n> * **High Pressure:** Deep-sea creatures have evolved to withstand the extreme pressure of the deep ocean, which increases by about one atmosphere every ten meters. They are often small, gelatinous, with minimal skeletons and lack cavities that could collapse under pressure. \n> * **Darkness:**  The deep sea is devoid of sunlight. Deep-sea creatures have adapted by:\n>     * **Chemosynthesis:** Relying on bacteria that utilize chemicals from hydrothermal vents and cold seeps for energy. \n>     * **Marine Snow:** Feeding on organic matter that falls from the surface layers.\n>     * **Whale Falls:**  Utilizing the large amount of organic matter provided by decaying whale carcasses.\n>     * **Bioluminescence:** Some deep-sea creatures have evolved bioluminescence for communication, hunting, and camouflage.\n> * **Cold Temperatures:** Deep-sea environments are extremely cold, with temperatures generally remaining between 2-4 degrees Celsius.  \n> * **Limited Food:** The deep sea is a food-scarce environment. Deep-sea creatures have adapted by:\n>     * **Slow Metabolism:** Having a slow metabolic rate to conserve energy.\n>     * **Opportunism:** Feeding on whatever food they can find, including scavenged material and carrion.\n> * **Specialized Adaptations:**  Many deep-sea creatures have unique adaptations, such as:\n>     * **Large Eyes:**  For detecting bioluminescence in the darkness.\n>     * **Specialized Gills:**  To extract oxygen from the low-oxygen environment.\n>     * **Gelatinous Flesh:**  To reduce buoyancy and aid in survival at depth.\n>     * **Reduced Skeletal Structure:**  For energy conservation.\n> \n> **Important Note:** This information is focused on the adaptations that allow deep-sea creatures to survive in the harsh conditions of their environment. The text also mentions the energy sources and food webs found in the deep ocean, which are essential for understanding how these creatures thrive. \n> \n> \n> Based on:\n>   https://en.wikipedia.org/wiki/Deep-sea_community"
          },
          "metadata": {},
          "execution_count": 29
        }
      ],
      "source": [
        "to_markdown(summaries[np.argmax(sim_value)])"
      ]
    },
    {
      "cell_type": "markdown",
      "metadata": {
        "id": "UjDN2OUpsL6M"
      },
      "source": [
        "You have now created a search re-ranking engine using embeddings!"
      ]
    },
    {
      "cell_type": "markdown",
      "metadata": {
        "id": "AKH2vs2Lc1R1"
      },
      "source": [
        "## Next steps\n",
        "\n",
        "I hope you found this example helpful! Check out more examples in the [Gemini Guide](https://github.com/google-gemini/gemini-guide/) to learn more."
      ]
    }
  ],
  "metadata": {
    "colab": {
      "name": "Search_reranking_using_embeddings.ipynb",
      "toc_visible": true,
      "provenance": []
    },
    "kernelspec": {
      "display_name": "Python 3",
      "name": "python3"
    }
  },
  "nbformat": 4,
  "nbformat_minor": 0
}